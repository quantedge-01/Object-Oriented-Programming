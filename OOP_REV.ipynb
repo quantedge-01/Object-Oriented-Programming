{
 "cells": [
  {
   "cell_type": "markdown",
   "metadata": {},
   "source": [
    "# Using Class Method"
   ]
  },
  {
   "cell_type": "code",
   "execution_count": 56,
   "metadata": {},
   "outputs": [],
   "source": [
    "class Car:\n",
    "\n",
    "    num_cars = 0 # this will keep track of all the instances created from this class\n",
    "    country = 'Germany'\n",
    "    base_price = 100\n",
    "\n",
    "    def __init__(self , name):\n",
    "        self.name = name\n",
    "        Car.num_cars +=1  # this will keep track of the num of instances created\n",
    "    \n",
    "    @classmethod\n",
    "    def show(cls): # cls is the class itself...\n",
    "        print(cls.num_cars) # this will shoiw the num of instaces created\n",
    "\n",
    "    @classmethod\n",
    "    def show_country(cls):\n",
    "        print(cls.country) # accessing using the class method , it can be modified frim here as well\n",
    "\n",
    "    def get_name(self): # this is a getter method\n",
    "        print(self.name)\n",
    "\n",
    "    def set_name(self, value): # this is setter method\n",
    "        self.name = value\n",
    "\n",
    "    @staticmethod\n",
    "    def price(taxes): # this can be accesed withot making an object\n",
    "        return Car.base_price + taxes"
   ]
  },
  {
   "cell_type": "markdown",
   "metadata": {},
   "source": [
    "#### Value of class method can be accesed through class instance as well as object istance"
   ]
  },
  {
   "cell_type": "code",
   "execution_count": 19,
   "metadata": {},
   "outputs": [
    {
     "data": {
      "text/plain": [
       "2"
      ]
     },
     "execution_count": 19,
     "metadata": {},
     "output_type": "execute_result"
    }
   ],
   "source": [
    "Car.num_cars # using class variable\n",
    "my_car = Car('BWM')\n",
    "my_car.num_cars # using instance variable"
   ]
  },
  {
   "cell_type": "markdown",
   "metadata": {},
   "source": [
    "#### For modification only class instace is allowed"
   ]
  },
  {
   "cell_type": "code",
   "execution_count": 20,
   "metadata": {},
   "outputs": [],
   "source": [
    "Car.num_cars = 3 # modified using the class instance\n",
    "my_car.show()"
   ]
  },
  {
   "cell_type": "code",
   "execution_count": 12,
   "metadata": {},
   "outputs": [
    {
     "name": "stdout",
     "output_type": "stream",
     "text": [
      "0\n"
     ]
    }
   ],
   "source": [
    "my_car.show()\n",
    "my_car.numb_cars()"
   ]
  },
  {
   "cell_type": "code",
   "execution_count": 8,
   "metadata": {},
   "outputs": [],
   "source": [
    "mc = Car('Audi')\n",
    "my_car.numb_cars()"
   ]
  },
  {
   "cell_type": "markdown",
   "metadata": {},
   "source": [
    "#### static methods works on external data"
   ]
  },
  {
   "cell_type": "code",
   "execution_count": 33,
   "metadata": {},
   "outputs": [
    {
     "data": {
      "text/plain": [
       "120"
      ]
     },
     "execution_count": 33,
     "metadata": {},
     "output_type": "execute_result"
    }
   ],
   "source": [
    "Car.price(20) # it works on external data, and not dependent on isntance or class"
   ]
  },
  {
   "cell_type": "markdown",
   "metadata": {},
   "source": [
    "# Inheritance"
   ]
  },
  {
   "cell_type": "code",
   "execution_count": 39,
   "metadata": {},
   "outputs": [],
   "source": [
    "class Electric_car(Car): #If there is no constructor present in the child class\n",
    "    pass                 # then parent class constructor will be available for the child "
   ]
  },
  {
   "cell_type": "code",
   "execution_count": 37,
   "metadata": {},
   "outputs": [],
   "source": [
    "ec = Electric_car('Tesla')"
   ]
  },
  {
   "cell_type": "markdown",
   "metadata": {},
   "source": [
    "# Constructor Overridng"
   ]
  },
  {
   "cell_type": "code",
   "execution_count": 41,
   "metadata": {},
   "outputs": [],
   "source": [
    "class Electric_Car(Car): #If there is no constructor present in the child class\n",
    "    def __init__(self , name):\n",
    "        self.name = name   \n",
    "        print('chiild class constructor clled ')"
   ]
  },
  {
   "cell_type": "code",
   "execution_count": 42,
   "metadata": {},
   "outputs": [
    {
     "name": "stdout",
     "output_type": "stream",
     "text": [
      "chiild class constructor clled \n"
     ]
    }
   ],
   "source": [
    "er = Electric_Car('BYD')"
   ]
  },
  {
   "cell_type": "markdown",
   "metadata": {},
   "source": [
    "# Super Method"
   ]
  },
  {
   "cell_type": "code",
   "execution_count": 63,
   "metadata": {},
   "outputs": [],
   "source": [
    "class EC(Car):\n",
    "    def __init__(self,name, battery_size):\n",
    "        super().__init__(name) # name is already stored in parent class \n",
    "        self.battery = battery_size\n",
    "\n",
    "    def get_name(self):\n",
    "        super().get_name() # calling parent class get name method \n"
   ]
  },
  {
   "cell_type": "code",
   "execution_count": 64,
   "metadata": {},
   "outputs": [],
   "source": [
    "ee = EC('BWQ' , 20)"
   ]
  },
  {
   "cell_type": "code",
   "execution_count": 66,
   "metadata": {},
   "outputs": [
    {
     "name": "stdout",
     "output_type": "stream",
     "text": [
      "BWQ\n"
     ]
    }
   ],
   "source": [
    "ee.get_name()"
   ]
  },
  {
   "cell_type": "markdown",
   "metadata": {},
   "source": [
    "# Types pf Inheritance"
   ]
  },
  {
   "cell_type": "code",
   "execution_count": null,
   "metadata": {},
   "outputs": [],
   "source": [
    "# Single -- one parent one child\n",
    "# Multi Level - parent - child - grandchild - can bre extended further\n",
    "# Hierarchical - one pearent - multiple childs \n",
    "# Multiple - \n",
    "# Hybrid\n",
    "# Cylical"
   ]
  },
  {
   "cell_type": "markdown",
   "metadata": {},
   "source": [
    "## Multilevk Inheritance"
   ]
  },
  {
   "cell_type": "code",
   "execution_count": null,
   "metadata": {},
   "outputs": [],
   "source": [
    "class Grandparent:\n",
    "    def __init__(self, grandparent_name):\n",
    "        self.grandparent_name = grandparent_name\n",
    "\n",
    "    def greet_grandparent(self):\n",
    "        return f\"Hello from {self.grandparent_name}!\"\n",
    "\n",
    "class Parent(Grandparent):\n",
    "    def __init__(self, grandparent_name, parent_name):\n",
    "        super().__init__(grandparent_name)\n",
    "        self.parent_name = parent_name\n",
    "\n",
    "    def greet_parent(self):\n",
    "        return f\"Hello from {self.parent_name}!\"\n",
    "\n",
    "class Child(Parent):\n",
    "    def __init__(self, grandparent_name, parent_name, child_name):\n",
    "        super().__init__(grandparent_name, parent_name)\n",
    "        self.child_name = child_name\n",
    "\n",
    "    def greet_child(self):\n",
    "        return f\"Hello from {self.child_name}!\"\n",
    "\n",
    "# Creating an instance of the Child class\n",
    "child_instance = Child(\"Grandpa Joe\", \"Dad Mike\", \"Alice\")\n",
    "\n",
    "# Accessing properties and methods from all levels of inheritance\n",
    "print(child_instance.greet_grandparent())  # Output: Hello from Grandpa Joe!\n",
    "print(child_instance.greet_parent())       # Output: Hello from Dad Mike!\n",
    "print(child_instance.greet_child())        # Output: Hello from Alice!\n"
   ]
  },
  {
   "cell_type": "markdown",
   "metadata": {},
   "source": [
    "# Hierarchical Inheritance"
   ]
  },
  {
   "cell_type": "code",
   "execution_count": 76,
   "metadata": {},
   "outputs": [],
   "source": [
    "class Person:\n",
    "    def __init__(self,name, age):\n",
    "        self.name = name\n",
    "        self.age = age\n",
    "\n",
    "    def display(self):\n",
    "        print('person')\n",
    "\n",
    "class Employee(Person):\n",
    "    def __init__(self , sal):\n",
    "        self.salary = sal\n",
    "\n",
    "    def display(self):\n",
    "        print('Employee')\n",
    "\n",
    "class Student(Person):\n",
    "    def __init__(self, name  , age , marks ): # both the classes are inheriting from the parent class\n",
    "        super().__init__(name,age)\n",
    "        self.marks = marks\n",
    "\n",
    "    def display(self):\n",
    "        print('Student')"
   ]
  },
  {
   "cell_type": "code",
   "execution_count": 77,
   "metadata": {},
   "outputs": [],
   "source": [
    "s1 = Student('a' , 32 , 98)"
   ]
  },
  {
   "cell_type": "markdown",
   "metadata": {},
   "source": [
    "# Multiple Inheritance"
   ]
  },
  {
   "cell_type": "code",
   "execution_count": 84,
   "metadata": {},
   "outputs": [],
   "source": [
    "class Country:\n",
    "    def __init__(self):\n",
    "        self.office = 'India'\n",
    "        print('Country')\n",
    "\n",
    "\n",
    "class State:\n",
    "    def __init__(self):\n",
    "        super().__init__()\n",
    "        self.office = 'Uk'\n",
    "        print('State')\n",
    "\n",
    "class District(State , Country):\n",
    "\n",
    "    def __init__(self):\n",
    "        super().__init__()\n",
    "        self.office = 'Almora'\n",
    "        print('District')"
   ]
  },
  {
   "cell_type": "code",
   "execution_count": 85,
   "metadata": {},
   "outputs": [
    {
     "name": "stdout",
     "output_type": "stream",
     "text": [
      "Country\n",
      "State\n",
      "District\n"
     ]
    }
   ],
   "source": [
    "d = District()"
   ]
  },
  {
   "cell_type": "code",
   "execution_count": 86,
   "metadata": {},
   "outputs": [
    {
     "name": "stdout",
     "output_type": "stream",
     "text": [
      "{'office': 'Almora'}\n"
     ]
    }
   ],
   "source": [
    "print(d.__dict__)"
   ]
  },
  {
   "cell_type": "markdown",
   "metadata": {},
   "source": [
    "# Hybrid "
   ]
  },
  {
   "cell_type": "code",
   "execution_count": 87,
   "metadata": {},
   "outputs": [],
   "source": [
    "# Mixture of all kinds od inheritance"
   ]
  },
  {
   "cell_type": "markdown",
   "metadata": {},
   "source": [
    "# MRO"
   ]
  },
  {
   "cell_type": "code",
   "execution_count": 1,
   "metadata": {},
   "outputs": [],
   "source": [
    "class A:\n",
    "    pass\n",
    "\n",
    "class B:\n",
    "    pass\n",
    "\n",
    "class C:\n",
    "    pass\n",
    "\n",
    "class X(A,B,C):\n",
    "    pass\n",
    "\n",
    "class Y(B,C):\n",
    "    pass\n",
    "\n",
    "class P(X,Y):\n",
    "    pass"
   ]
  },
  {
   "cell_type": "code",
   "execution_count": 4,
   "metadata": {},
   "outputs": [
    {
     "name": "stdout",
     "output_type": "stream",
     "text": [
      "[<class '__main__.P'>, <class '__main__.X'>, <class '__main__.A'>, <class '__main__.Y'>, <class '__main__.B'>, <class '__main__.C'>, <class 'object'>]\n"
     ]
    }
   ],
   "source": [
    "print(P.mro()) # it shows all the priority of searching"
   ]
  },
  {
   "cell_type": "markdown",
   "metadata": {},
   "source": [
    "# Encapsulation"
   ]
  },
  {
   "cell_type": "code",
   "execution_count": 23,
   "metadata": {},
   "outputs": [],
   "source": [
    "class Finance:\n",
    "    def __init__(self):\n",
    "        self.__salary = 10000 # private member\n",
    "        self.package = 20000\n",
    "\n",
    "    def get_salary(self):\n",
    "        print(self.__salary)\n",
    "        "
   ]
  },
  {
   "cell_type": "code",
   "execution_count": 24,
   "metadata": {},
   "outputs": [],
   "source": [
    "f = Finance() "
   ]
  },
  {
   "cell_type": "code",
   "execution_count": 26,
   "metadata": {},
   "outputs": [
    {
     "name": "stdout",
     "output_type": "stream",
     "text": [
      "10000\n"
     ]
    }
   ],
   "source": [
    "f.get_salary() # can access this using methods inside the class"
   ]
  },
  {
   "cell_type": "code",
   "execution_count": 27,
   "metadata": {},
   "outputs": [
    {
     "ename": "AttributeError",
     "evalue": "'Finance' object has no attribute '__salary'",
     "output_type": "error",
     "traceback": [
      "\u001b[1;31m---------------------------------------------------------------------------\u001b[0m",
      "\u001b[1;31mAttributeError\u001b[0m                            Traceback (most recent call last)",
      "Cell \u001b[1;32mIn[27], line 1\u001b[0m\n\u001b[1;32m----> 1\u001b[0m \u001b[43mf\u001b[49m\u001b[38;5;241;43m.\u001b[39;49m\u001b[43m__salary\u001b[49m \u001b[38;5;66;03m## cannot access the var this way\u001b[39;00m\n",
      "\u001b[1;31mAttributeError\u001b[0m: 'Finance' object has no attribute '__salary'"
     ]
    }
   ],
   "source": [
    "f.__salary ## cannot access the var this way"
   ]
  },
  {
   "cell_type": "code",
   "execution_count": null,
   "metadata": {},
   "outputs": [
    {
     "ename": "AttributeError",
     "evalue": "'Finance' object has no attribute 'salary'",
     "output_type": "error",
     "traceback": [
      "\u001b[1;31m---------------------------------------------------------------------------\u001b[0m",
      "\u001b[1;31mAttributeError\u001b[0m                            Traceback (most recent call last)",
      "Cell \u001b[1;32mIn[20], line 1\u001b[0m\n\u001b[1;32m----> 1\u001b[0m \u001b[43mf\u001b[49m\u001b[38;5;241;43m.\u001b[39;49m\u001b[43msalary\u001b[49m \n",
      "\u001b[1;31mAttributeError\u001b[0m: 'Finance' object has no attribute 'salary'"
     ]
    }
   ],
   "source": [
    "f.salary ## cannot access the cvar this way, it has become private"
   ]
  },
  {
   "cell_type": "code",
   "execution_count": 28,
   "metadata": {},
   "outputs": [
    {
     "data": {
      "text/plain": [
       "10000"
      ]
     },
     "execution_count": 28,
     "metadata": {},
     "output_type": "execute_result"
    }
   ],
   "source": [
    "f._Finance__salary # can access the private member through name mangling, notghing is truly private oin python"
   ]
  },
  {
   "cell_type": "markdown",
   "metadata": {},
   "source": [
    "# Polymorphism"
   ]
  },
  {
   "cell_type": "markdown",
   "metadata": {},
   "source": [
    "## Polymprphism with inheritance"
   ]
  },
  {
   "cell_type": "code",
   "execution_count": 32,
   "metadata": {},
   "outputs": [],
   "source": [
    "class Vehicle:\n",
    "    def __init__(self , name, color, price):\n",
    "        self.name = name\n",
    "        self.color = color\n",
    "        self.price = price\n",
    "\n",
    "    def get_details(self):\n",
    "        print(f\"{self.name} , {self.color} , {self.price}\")\n",
    "\n",
    "    def max_speed(self):\n",
    "        print('120')"
   ]
  },
  {
   "cell_type": "code",
   "execution_count": 34,
   "metadata": {},
   "outputs": [],
   "source": [
    "class Car(Vehicle):\n",
    "    def max_speed(self):\n",
    "        print('360')\n"
   ]
  },
  {
   "cell_type": "code",
   "execution_count": 35,
   "metadata": {},
   "outputs": [],
   "source": [
    "ec = Car('bmw' , 'green' , 12000)"
   ]
  },
  {
   "cell_type": "code",
   "execution_count": 37,
   "metadata": {},
   "outputs": [
    {
     "name": "stdout",
     "output_type": "stream",
     "text": [
      "360\n"
     ]
    }
   ],
   "source": [
    "ec.max_speed() # method overiding is an example of polymorphusm with inheritance"
   ]
  },
  {
   "cell_type": "markdown",
   "metadata": {},
   "source": [
    "### Overriding Built in Functions"
   ]
  },
  {
   "cell_type": "code",
   "execution_count": 41,
   "metadata": {},
   "outputs": [],
   "source": [
    "class Cart:\n",
    "    def __init__(self, basket1, basket2, basket3):\n",
    "        self.clothes = basket1\n",
    "        self.electronics = basket2\n",
    "        self.other = basket3\n",
    "\n",
    "    def __len__(self): # over-rifding the behaviour of built in\n",
    "        print('total num of items')\n",
    "        return len(self.clothes) + len(self.electronics) + len(self.other)"
   ]
  },
  {
   "cell_type": "code",
   "execution_count": 44,
   "metadata": {},
   "outputs": [],
   "source": [
    "my_cart = Cart(['a' , 'b' , 'c'] , ['l' , 'k'] , ['o' , 'p' , 't'])"
   ]
  },
  {
   "cell_type": "code",
   "execution_count": 45,
   "metadata": {},
   "outputs": [
    {
     "name": "stdout",
     "output_type": "stream",
     "text": [
      "total num of items\n"
     ]
    },
    {
     "data": {
      "text/plain": [
       "8"
      ]
     },
     "execution_count": 45,
     "metadata": {},
     "output_type": "execute_result"
    }
   ],
   "source": [
    "len(my_cart)"
   ]
  },
  {
   "cell_type": "markdown",
   "metadata": {},
   "source": [
    "### Polymorphism in objects and Functions"
   ]
  },
  {
   "cell_type": "code",
   "execution_count": 46,
   "metadata": {},
   "outputs": [],
   "source": [
    "class Audi:\n",
    "    def details(self):\n",
    "        print('this is q7, with max speed of 220')"
   ]
  },
  {
   "cell_type": "code",
   "execution_count": 47,
   "metadata": {},
   "outputs": [],
   "source": [
    "class Merc:\n",
    "    def details(self):\n",
    "        print('this is maybach, with max speed of 320')"
   ]
  },
  {
   "cell_type": "code",
   "execution_count": 48,
   "metadata": {},
   "outputs": [],
   "source": [
    "def info(obj): # polymorphism using normal function , if objects change then info change\n",
    "    return obj.details()"
   ]
  },
  {
   "cell_type": "code",
   "execution_count": 49,
   "metadata": {},
   "outputs": [],
   "source": [
    "a = Audi()\n",
    "b = Merc()"
   ]
  },
  {
   "cell_type": "code",
   "execution_count": 51,
   "metadata": {},
   "outputs": [
    {
     "name": "stdout",
     "output_type": "stream",
     "text": [
      "this is q7, with max speed of 220\n"
     ]
    }
   ],
   "source": [
    "info(a)"
   ]
  },
  {
   "cell_type": "code",
   "execution_count": 52,
   "metadata": {},
   "outputs": [
    {
     "name": "stdout",
     "output_type": "stream",
     "text": [
      "this is maybach, with max speed of 320\n"
     ]
    }
   ],
   "source": [
    "info(b)"
   ]
  },
  {
   "cell_type": "markdown",
   "metadata": {},
   "source": [
    "# Operator Overloading"
   ]
  },
  {
   "cell_type": "code",
   "execution_count": 53,
   "metadata": {},
   "outputs": [],
   "source": [
    "num1 = 10\n",
    "num2 = 20"
   ]
  },
  {
   "cell_type": "code",
   "execution_count": 54,
   "metadata": {},
   "outputs": [
    {
     "data": {
      "text/plain": [
       "30"
      ]
     },
     "execution_count": 54,
     "metadata": {},
     "output_type": "execute_result"
    }
   ],
   "source": [
    "num1 + num2"
   ]
  },
  {
   "cell_type": "code",
   "execution_count": 56,
   "metadata": {},
   "outputs": [
    {
     "data": {
      "text/plain": [
       "30"
      ]
     },
     "execution_count": 56,
     "metadata": {},
     "output_type": "execute_result"
    }
   ],
   "source": [
    "num1.__add__(num2) # internally it works like this"
   ]
  },
  {
   "cell_type": "code",
   "execution_count": 59,
   "metadata": {},
   "outputs": [
    {
     "data": {
      "text/plain": [
       "30"
      ]
     },
     "execution_count": 59,
     "metadata": {},
     "output_type": "execute_result"
    }
   ],
   "source": [
    "int.__add__(num1, num2) # type is specified in this"
   ]
  },
  {
   "cell_type": "code",
   "execution_count": 60,
   "metadata": {},
   "outputs": [],
   "source": [
    "str1 = 'abc'\n",
    "str2 = 'xyz'"
   ]
  },
  {
   "cell_type": "code",
   "execution_count": 62,
   "metadata": {},
   "outputs": [
    {
     "ename": "TypeError",
     "evalue": "descriptor '__add__' requires a 'int' object but received a 'str'",
     "output_type": "error",
     "traceback": [
      "\u001b[1;31m---------------------------------------------------------------------------\u001b[0m",
      "\u001b[1;31mTypeError\u001b[0m                                 Traceback (most recent call last)",
      "Cell \u001b[1;32mIn[62], line 1\u001b[0m\n\u001b[1;32m----> 1\u001b[0m \u001b[38;5;28;43mint\u001b[39;49m\u001b[38;5;241;43m.\u001b[39;49m\u001b[38;5;21;43m__add__\u001b[39;49m\u001b[43m(\u001b[49m\u001b[43mstr1\u001b[49m\u001b[43m,\u001b[49m\u001b[43m \u001b[49m\u001b[43mstr2\u001b[49m\u001b[43m)\u001b[49m \u001b[38;5;66;03m# this will not wok for str\u001b[39;00m\n",
      "\u001b[1;31mTypeError\u001b[0m: descriptor '__add__' requires a 'int' object but received a 'str'"
     ]
    }
   ],
   "source": [
    "int.__add__(str1, str2) # this will not wok for str"
   ]
  },
  {
   "cell_type": "code",
   "execution_count": 64,
   "metadata": {},
   "outputs": [
    {
     "data": {
      "text/plain": [
       "'abcxyz'"
      ]
     },
     "execution_count": 64,
     "metadata": {},
     "output_type": "execute_result"
    }
   ],
   "source": [
    "str.__add__(str1 , str2) # behaviour changes as dtype changes"
   ]
  },
  {
   "cell_type": "markdown",
   "metadata": {},
   "source": [
    "#### Example of operator overloading"
   ]
  },
  {
   "cell_type": "code",
   "execution_count": 100,
   "metadata": {},
   "outputs": [],
   "source": [
    "class Book:\n",
    "    def __init__(self, titile , pages):\n",
    "        self.title = titile\n",
    "        self.pages = pages\n",
    "\n",
    "    def __add__(self,other):\n",
    "        total = self.pages + other.pages\n",
    "        return Book('All-Books' , total)\n",
    "    \n",
    "    def __str__(self):\n",
    "        return str(self.pages)\n",
    "\n"
   ]
  },
  {
   "cell_type": "code",
   "execution_count": 101,
   "metadata": {},
   "outputs": [],
   "source": [
    "b1 = Book('nice', 300)"
   ]
  },
  {
   "cell_type": "code",
   "execution_count": 102,
   "metadata": {},
   "outputs": [],
   "source": [
    "b2 = Book('awe' , 400)"
   ]
  },
  {
   "cell_type": "code",
   "execution_count": 103,
   "metadata": {},
   "outputs": [],
   "source": [
    "b3 =    Book('soso' , 800)"
   ]
  },
  {
   "cell_type": "code",
   "execution_count": 104,
   "metadata": {},
   "outputs": [],
   "source": [
    "# we want to add the number of pages in the book"
   ]
  },
  {
   "cell_type": "code",
   "execution_count": 106,
   "metadata": {},
   "outputs": [
    {
     "name": "stdout",
     "output_type": "stream",
     "text": [
      "1500\n"
     ]
    }
   ],
   "source": [
    "print(b1 + b2 + b3)"
   ]
  },
  {
   "cell_type": "markdown",
   "metadata": {},
   "source": [
    "#### Overloading Comparison operator"
   ]
  },
  {
   "cell_type": "code",
   "execution_count": 90,
   "metadata": {},
   "outputs": [],
   "source": [
    "class Hotel:\n",
    "    def __init__(self,name , fare):\n",
    "        self.name = name\n",
    "        self.fare = fare\n",
    "\n",
    "    def __gt__(self,other):\n",
    "        return self.fare > other.fare"
   ]
  },
  {
   "cell_type": "code",
   "execution_count": 91,
   "metadata": {},
   "outputs": [],
   "source": [
    "h1 = Hotel('Taj' , 200)"
   ]
  },
  {
   "cell_type": "code",
   "execution_count": 92,
   "metadata": {},
   "outputs": [],
   "source": [
    "h2 = Hotel('Meridian' , 500)"
   ]
  },
  {
   "cell_type": "code",
   "execution_count": 93,
   "metadata": {},
   "outputs": [
    {
     "data": {
      "text/plain": [
       "False"
      ]
     },
     "execution_count": 93,
     "metadata": {},
     "output_type": "execute_result"
    }
   ],
   "source": [
    "h1 > h2"
   ]
  },
  {
   "cell_type": "markdown",
   "metadata": {},
   "source": [
    "# Method Overloading"
   ]
  },
  {
   "cell_type": "code",
   "execution_count": 107,
   "metadata": {},
   "outputs": [],
   "source": [
    "# it is not supported in python , as the latest function gets called."
   ]
  },
  {
   "cell_type": "code",
   "execution_count": 122,
   "metadata": {},
   "outputs": [],
   "source": [
    "# However it can be acheived using this :\n",
    "class Calci:\n",
    "    def add(self , num1  =None , num2 = None , num3 = None):\n",
    "\n",
    "        if num1 != None and num2!= None and num3 != None:\n",
    "            return num1 + num2 + num3\n",
    "\n",
    "        elif num1 != None and num2!= None:\n",
    "            return num1 + num2\n",
    "        \n",
    "        else: \n",
    "            print('iNCORRCET PARAMETERS')"
   ]
  },
  {
   "cell_type": "code",
   "execution_count": 123,
   "metadata": {},
   "outputs": [],
   "source": [
    "a = Calci()"
   ]
  },
  {
   "cell_type": "code",
   "execution_count": 124,
   "metadata": {},
   "outputs": [
    {
     "data": {
      "text/plain": [
       "5"
      ]
     },
     "execution_count": 124,
     "metadata": {},
     "output_type": "execute_result"
    }
   ],
   "source": [
    "a.add(2,3)"
   ]
  },
  {
   "cell_type": "code",
   "execution_count": 125,
   "metadata": {},
   "outputs": [
    {
     "data": {
      "text/plain": [
       "9"
      ]
     },
     "execution_count": 125,
     "metadata": {},
     "output_type": "execute_result"
    }
   ],
   "source": [
    "a.add(2,3,4)"
   ]
  },
  {
   "cell_type": "code",
   "execution_count": 127,
   "metadata": {},
   "outputs": [],
   "source": [
    "class Area:\n",
    "    def area(self , l =0 , b = 0):\n",
    "        if l > 0 and b >0 :\n",
    "            print('Rectangle' , l*b)\n",
    "        elif l> 0 and b == 0:\n",
    "            print('Square' , l*l)"
   ]
  },
  {
   "cell_type": "code",
   "execution_count": 128,
   "metadata": {},
   "outputs": [],
   "source": [
    "ar = Area()"
   ]
  },
  {
   "cell_type": "code",
   "execution_count": 129,
   "metadata": {},
   "outputs": [
    {
     "name": "stdout",
     "output_type": "stream",
     "text": [
      "Square 4\n"
     ]
    }
   ],
   "source": [
    "ar.area(2)"
   ]
  },
  {
   "cell_type": "code",
   "execution_count": 131,
   "metadata": {},
   "outputs": [
    {
     "name": "stdout",
     "output_type": "stream",
     "text": [
      "Rectangle 6\n"
     ]
    }
   ],
   "source": [
    "ar.area(2,3)"
   ]
  },
  {
   "cell_type": "markdown",
   "metadata": {},
   "source": [
    "# NESTED CLASS"
   ]
  },
  {
   "cell_type": "code",
   "execution_count": 132,
   "metadata": {},
   "outputs": [],
   "source": [
    "# IT IS REQUIRED IF ONE CLASS OBJECT CANNOT EXITS WITHOUT ANOTHER"
   ]
  },
  {
   "cell_type": "code",
   "execution_count": 150,
   "metadata": {},
   "outputs": [],
   "source": [
    "class Student:\n",
    "    def __init__(self, name , dd , mm, yy):\n",
    "        self.name = name \n",
    "        self.dob = self.DOB(dd, mm , yy)\n",
    "        \n",
    "    def show(self):\n",
    "        print(f'{self.name} ') \n",
    "        self.dob.show() # calling the dob sghow method here \n",
    "\n",
    "    class DOB:\n",
    "        def __init__(self, dd , mm , yy):\n",
    "            self.date = dd\n",
    "            self.month = mm\n",
    "            self.year = yy\n",
    "        \n",
    "        def show(self):\n",
    "            print(f' dob is {self.date}/{self.month}/{self.year}')\n"
   ]
  },
  {
   "cell_type": "code",
   "execution_count": 151,
   "metadata": {},
   "outputs": [],
   "source": [
    "s1 = Student('A' , 12, 7 , 1990)"
   ]
  },
  {
   "cell_type": "code",
   "execution_count": 152,
   "metadata": {},
   "outputs": [
    {
     "name": "stdout",
     "output_type": "stream",
     "text": [
      "A \n",
      " dob is 12/7/1990\n"
     ]
    }
   ],
   "source": [
    "s1.show()"
   ]
  },
  {
   "cell_type": "markdown",
   "metadata": {},
   "source": [
    "# Acess member of one class into another"
   ]
  },
  {
   "cell_type": "code",
   "execution_count": 163,
   "metadata": {},
   "outputs": [],
   "source": [
    "class Employee:\n",
    "    def __init__(self, eid , name , sal):\n",
    "        self.emp_id = eid\n",
    "        self.name = name\n",
    "        self.salary = sal\n",
    "\n",
    "    def display(self):\n",
    "        print(f'ID IS {self.emp_id}')\n",
    "        print(f'NAame is {self.name}')\n",
    "        print(f'salary is{self.salary}')"
   ]
  },
  {
   "cell_type": "code",
   "execution_count": 164,
   "metadata": {},
   "outputs": [],
   "source": [
    "class changes:\n",
    "    @staticmethod\n",
    "    def increment(obj): # we will take object and work on it\n",
    "        obj.salary = obj.salary + 2000"
   ]
  },
  {
   "cell_type": "code",
   "execution_count": 165,
   "metadata": {},
   "outputs": [],
   "source": [
    "e1 = Employee( 21, 'mahi' , 100 )"
   ]
  },
  {
   "cell_type": "code",
   "execution_count": 166,
   "metadata": {},
   "outputs": [
    {
     "name": "stdout",
     "output_type": "stream",
     "text": [
      "ID IS 21\n",
      "NAame is mahi\n",
      "salary is100\n"
     ]
    }
   ],
   "source": [
    "e1.display()"
   ]
  },
  {
   "cell_type": "code",
   "execution_count": 167,
   "metadata": {},
   "outputs": [],
   "source": [
    "changes.increment(e1)"
   ]
  },
  {
   "cell_type": "code",
   "execution_count": 168,
   "metadata": {},
   "outputs": [
    {
     "name": "stdout",
     "output_type": "stream",
     "text": [
      "ID IS 21\n",
      "NAame is mahi\n",
      "salary is2100\n"
     ]
    }
   ],
   "source": [
    "e1.display()"
   ]
  },
  {
   "cell_type": "markdown",
   "metadata": {},
   "source": [
    "# Storing objects in a list"
   ]
  },
  {
   "cell_type": "code",
   "execution_count": 176,
   "metadata": {},
   "outputs": [],
   "source": [
    "class Movie:\n",
    "    def __init__(self , titile , mins , hero):\n",
    "        self.title = titile\n",
    "        self.mins = mins\n",
    "        self.hero = hero\n",
    "\n",
    "    def printer(self):\n",
    "        print(f'Title is {self.title} , runtime is {self.mins} , hero is {self.hero}')"
   ]
  },
  {
   "cell_type": "code",
   "execution_count": 177,
   "metadata": {},
   "outputs": [
    {
     "name": "stdout",
     "output_type": "stream",
     "text": [
      "Movies added to the list\n",
      "all movies info:\n",
      "Title is vhjv , runtime is 565 , hero is hih\\\n"
     ]
    }
   ],
   "source": [
    "movies = []\n",
    "while True:\n",
    "    titile = input('Rnter the title')\n",
    "    mins = input('mins of movie')\n",
    "    hero = input('hero o fmovie is ')\n",
    "    obj = Movie(titile, mins , hero)\n",
    "    movies.append(obj)\n",
    "    print('Movies added to the list')\n",
    "    ans = input('Do you want to add another movie(y/n)')\n",
    "    if ans != 'y' :\n",
    "        break\n",
    "\n",
    "print('all movies info:')\n",
    "for ob in movies:\n",
    "    ob.printer()"
   ]
  },
  {
   "cell_type": "markdown",
   "metadata": {},
   "source": [
    "# Class Decorators"
   ]
  },
  {
   "cell_type": "code",
   "execution_count": 181,
   "metadata": {},
   "outputs": [],
   "source": [
    "class Decorator:\n",
    "    def __init__(self,func):\n",
    "        self.function = func\n",
    "\n",
    "    def __call__(self , a , b): #the function gets modified here, it behaves like clousre, maintaing state\n",
    "\n",
    "        result = self.function(a,b)\n",
    "        return result **2\n",
    "    "
   ]
  },
  {
   "cell_type": "code",
   "execution_count": 182,
   "metadata": {},
   "outputs": [],
   "source": [
    "@Decorator # claa that acts as decorator implements the __call__ method to modify behaviour\n",
    "def add(a,b):\n",
    "    return a+b"
   ]
  },
  {
   "cell_type": "code",
   "execution_count": 183,
   "metadata": {},
   "outputs": [
    {
     "data": {
      "text/plain": [
       "25"
      ]
     },
     "execution_count": 183,
     "metadata": {},
     "output_type": "execute_result"
    }
   ],
   "source": [
    "add(2,3)"
   ]
  },
  {
   "cell_type": "markdown",
   "metadata": {},
   "source": [
    "# Property Decorator"
   ]
  },
  {
   "cell_type": "code",
   "execution_count": 184,
   "metadata": {},
   "outputs": [],
   "source": [
    "# a built in methods, use is to use methods as a propertiy"
   ]
  },
  {
   "cell_type": "code",
   "execution_count": 202,
   "metadata": {},
   "outputs": [],
   "source": [
    "class Employee:\n",
    "\n",
    "    def __init__(self, first , last):\n",
    "        self.first = first\n",
    "        self.last = last\n",
    "\n",
    "    @property\n",
    "    def mail(self):\n",
    "        return f\"{self.first} {self.last}@gmail.com\"\n",
    " \n",
    "    @property # will owrk as a getter method\n",
    "    def fullname(self):\n",
    "        return f\"{self.first} {self.last}\"\n",
    "\n",
    "    @fullname.setter # works as a setter method\n",
    "    def fullname(self, name):\n",
    "        first , last = name.split()\n",
    "        self.first =first\n",
    "        self.last = last\n",
    "        return f\"{self.first} {self.last}\"\n",
    "    \n",
    "    @fullname.deleter\n",
    "    def fullname(self):\n",
    "        self.first = None\n",
    "        self.last = None\n",
    "\n",
    " "
   ]
  },
  {
   "cell_type": "code",
   "execution_count": 203,
   "metadata": {},
   "outputs": [],
   "source": [
    "e = Employee('Jaram' , \"Joshi\")"
   ]
  },
  {
   "cell_type": "code",
   "execution_count": 211,
   "metadata": {},
   "outputs": [
    {
     "data": {
      "text/plain": [
       "'None None'"
      ]
     },
     "execution_count": 211,
     "metadata": {},
     "output_type": "execute_result"
    }
   ],
   "source": [
    "e.fullname # methood working as attribute"
   ]
  },
  {
   "cell_type": "code",
   "execution_count": 210,
   "metadata": {},
   "outputs": [
    {
     "data": {
      "text/plain": [
       "'None None@gmail.com'"
      ]
     },
     "execution_count": 210,
     "metadata": {},
     "output_type": "execute_result"
    }
   ],
   "source": [
    "e.mail"
   ]
  },
  {
   "cell_type": "code",
   "execution_count": 206,
   "metadata": {},
   "outputs": [],
   "source": [
    "e.fullname = 'Bhanu joshi'"
   ]
  },
  {
   "cell_type": "code",
   "execution_count": 207,
   "metadata": {},
   "outputs": [
    {
     "data": {
      "text/plain": [
       "'Bhanu joshi@gmail.com'"
      ]
     },
     "execution_count": 207,
     "metadata": {},
     "output_type": "execute_result"
    }
   ],
   "source": [
    "e.mail"
   ]
  },
  {
   "cell_type": "code",
   "execution_count": 208,
   "metadata": {},
   "outputs": [
    {
     "data": {
      "text/plain": [
       "'Bhanu joshi'"
      ]
     },
     "execution_count": 208,
     "metadata": {},
     "output_type": "execute_result"
    }
   ],
   "source": [
    "e.fullname"
   ]
  },
  {
   "cell_type": "code",
   "execution_count": 209,
   "metadata": {},
   "outputs": [],
   "source": [
    "del e.fullname"
   ]
  },
  {
   "cell_type": "markdown",
   "metadata": {},
   "source": [
    "# Abstraction"
   ]
  },
  {
   "cell_type": "code",
   "execution_count": 229,
   "metadata": {},
   "outputs": [],
   "source": [
    "from abc import ABC, abstractmethod\n"
   ]
  },
  {
   "cell_type": "code",
   "execution_count": 232,
   "metadata": {},
   "outputs": [],
   "source": [
    "class trading(ABC): # the base class needs to inherit from ABC\n",
    "    def order_placement(self):\n",
    "        pass\n",
    "\n",
    "    @abstractmethod  # THIS HAS NOW BECOME an sbastract class , this method is cumpuilsory in other methjods a swell\n",
    "    def sl_checker(self):\n",
    "        pass\n",
    "\n",
    "    def live_data(self):\n",
    "        pass\n"
   ]
  },
  {
   "cell_type": "code",
   "execution_count": 233,
   "metadata": {},
   "outputs": [],
   "source": [
    "\n",
    "class strat(trading):\n",
    "    def money():\n",
    "        pass"
   ]
  },
  {
   "cell_type": "code",
   "execution_count": 234,
   "metadata": {},
   "outputs": [
    {
     "ename": "TypeError",
     "evalue": "Can't instantiate abstract class strat with abstract method sl_checker",
     "output_type": "error",
     "traceback": [
      "\u001b[1;31m---------------------------------------------------------------------------\u001b[0m",
      "\u001b[1;31mTypeError\u001b[0m                                 Traceback (most recent call last)",
      "Cell \u001b[1;32mIn[234], line 1\u001b[0m\n\u001b[1;32m----> 1\u001b[0m a \u001b[38;5;241m=\u001b[39m \u001b[43mstrat\u001b[49m\u001b[43m(\u001b[49m\u001b[43m)\u001b[49m\n",
      "\u001b[1;31mTypeError\u001b[0m: Can't instantiate abstract class strat with abstract method sl_checker"
     ]
    }
   ],
   "source": [
    "a = strat()"
   ]
  },
  {
   "cell_type": "code",
   "execution_count": null,
   "metadata": {},
   "outputs": [],
   "source": []
  }
 ],
 "metadata": {
  "kernelspec": {
   "display_name": "Python 3",
   "language": "python",
   "name": "python3"
  },
  "language_info": {
   "codemirror_mode": {
    "name": "ipython",
    "version": 3
   },
   "file_extension": ".py",
   "mimetype": "text/x-python",
   "name": "python",
   "nbconvert_exporter": "python",
   "pygments_lexer": "ipython3",
   "version": "3.10.5"
  }
 },
 "nbformat": 4,
 "nbformat_minor": 2
}
