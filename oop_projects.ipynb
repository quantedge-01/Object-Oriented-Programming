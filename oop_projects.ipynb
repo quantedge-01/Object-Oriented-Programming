{
 "cells": [
  {
   "cell_type": "markdown",
   "metadata": {},
   "source": [
    "# Getting familiar with Classes Implementation"
   ]
  },
  {
   "cell_type": "code",
   "execution_count": 22,
   "metadata": {},
   "outputs": [],
   "source": [
    "class Online_Course:\n",
    "    def  __init__(self, course ,instructor):\n",
    "        self.course = course\n",
    "        self.instructor = instructor\n",
    "        self.students = []\n",
    "\n",
    "    def enroll_stuedents(self, student):\n",
    "        self.students.append(student.name)\n",
    "        print('Enrollment Successfull')\n",
    "      \n",
    "\n",
    "    def course_details(self): \n",
    "        print(f'Name of the instructor for {self.course} is {self.instructor}')\n",
    "        print(f'Enrolled_students: {self.students}')\n",
    "\n",
    "\n",
    "    def calculate_average_score(self):\n",
    "        total = sum(student.grade) / len(student.grade)\n",
    "        print(f'averagegrade is {total}')\n",
    "        return total"
   ]
  },
  {
   "cell_type": "code",
   "execution_count": 19,
   "metadata": {},
   "outputs": [],
   "source": [
    "class Student:\n",
    "    def __init__(self, name , grade):\n",
    "        self.name = name\n",
    "        self.grade = grade"
   ]
  },
  {
   "cell_type": "code",
   "execution_count": 23,
   "metadata": {},
   "outputs": [
    {
     "name": "stdout",
     "output_type": "stream",
     "text": [
      "Enrollment Successfull\n",
      "averagegrade is 7.0\n",
      "Enrollment Successfull\n",
      "averagegrade is 7.0\n"
     ]
    }
   ],
   "source": [
    "course_input = input('Enter the Course Name: ')\n",
    "name = input('Enter the instructor: ')\n",
    "course = Online_Course(course_input, name)\n",
    "num_students = int(input('Enter the num of students'))\n",
    "for _ in range(num_students):\n",
    "    student_name = input('Enter the student name:')\n",
    "    grades = []\n",
    "    for i in range(3): # 3 grades are there\n",
    "        grade = int(input('Enter a grade: '))\n",
    "        grades.append(grade)\n",
    "    student = Student(student_name , grades)\n",
    "    course.enroll_stuedents(student)\n",
    "    course.calculate_average_score(student)"
   ]
  },
  {
   "cell_type": "code",
   "execution_count": 24,
   "metadata": {},
   "outputs": [
    {
     "name": "stdout",
     "output_type": "stream",
     "text": [
      "Name of the instructor for op is bvh\n",
      "Enrolled_students: ['bjh', 'bjbju']\n"
     ]
    }
   ],
   "source": [
    "course.course_details()"
   ]
  },
  {
   "cell_type": "markdown",
   "metadata": {},
   "source": [
    "# Travel Planner"
   ]
  },
  {
   "cell_type": "code",
   "execution_count": 72,
   "metadata": {},
   "outputs": [],
   "source": [
    "class travel_planner:\n",
    "    \n",
    "    def __init__(self, country , month , type):\n",
    "        self.country = country\n",
    "        self.month = int(month) \n",
    "        self.type = type\n",
    "        self.price = 0\n",
    "\n",
    "    def trip_info(self):\n",
    "        if  self.month >= 1 and self.month<=6:\n",
    "            print(f'The destinantion is {self.country} and type is {self.type} and the season  is summer')\n",
    "        elif self.month>6 and self.month<=12:\n",
    "            print(f'The destinantion is {self.country} and type is {self.type} and the season  is winter')\n",
    "        else:\n",
    "            print('invaqlid month entered')\n",
    "\n",
    "    def cost_calculation(self,cost):\n",
    "        costs = []\n",
    "        while cost !=0:\n",
    "            self.price += cost\n",
    "            costs.append(cost)\n",
    "            cost = int(input('Enter the extra_cost: '))\n",
    "\n",
    "        advice = self.advice(self.price)\n",
    "        inspect = self.update_cost(costs)\n",
    "\n",
    "    def advice(self, total):\n",
    "        if total < 500:\n",
    "            print('Low_Budget')\n",
    "        elif 500 < total < 1500:\n",
    "            print('Medium budget')\n",
    "        elif total > 1500:\n",
    "            print('Luxury Travel')\n",
    "\n",
    "    def update_cost(self , costs):\n",
    "        less_than_ten = 0\n",
    "        for i in costs:\n",
    "            if i < 10:\n",
    "                less_than_ten+=1\n",
    "\n",
    "        if less_than_ten <=10:\n",
    "            self.price +=10\n",
    "            print(f'Updated_price : {self.price}')"
   ]
  },
  {
   "cell_type": "code",
   "execution_count": 73,
   "metadata": {},
   "outputs": [],
   "source": [
    "india = travel_planner('india' , 2 , 'family')"
   ]
  },
  {
   "cell_type": "code",
   "execution_count": 74,
   "metadata": {},
   "outputs": [
    {
     "name": "stdout",
     "output_type": "stream",
     "text": [
      "The destinantion is india and type is family and the season  is summer\n"
     ]
    }
   ],
   "source": [
    "india.trip_info()"
   ]
  },
  {
   "cell_type": "code",
   "execution_count": 66,
   "metadata": {},
   "outputs": [
    {
     "name": "stdout",
     "output_type": "stream",
     "text": [
      "Luxury Travel\n",
      "Updated_price : 14488\n"
     ]
    }
   ],
   "source": [
    "cost = int(input('Enter the cost'))\n",
    "india.cost_calculation(cost)"
   ]
  },
  {
   "cell_type": "markdown",
   "metadata": {},
   "source": [
    "# Guest Management and Loyalty Program"
   ]
  },
  {
   "cell_type": "code",
   "execution_count": 93,
   "metadata": {},
   "outputs": [],
   "source": [
    "class Guest_management:\n",
    "    def  __init__(self , fname, lname , ranks ,age):\n",
    "        self.fname = fname\n",
    "        self.lname = lname\n",
    "        self.rank = ranks\n",
    "        self.ages = age\n",
    "        self.guests = []\n",
    "        \n",
    "    def info(self):\n",
    "        print(f'{self.fname} {self.lname} an the age is {self.age} , and the rank is {self.rank}')\n",
    "\n",
    "    def guest_info(self,glist):\n",
    "        for guest in glist:\n",
    "            print(f'{guest.fname} {guest.lname} an the age is {guest.ages}')\n",
    "        \n",
    "    def loyalty_points(self, glist):\n",
    "        gold_members = [guest.lname for guest in glist if self.rank > 10]\n",
    "\n",
    "        if gold_members:\n",
    "            print('Gold Members : ')\n",
    "        \n",
    "            for member in gold_members:\n",
    "                print(member)\n",
    "\n",
    "    def avg_age(self,glist):\n",
    "        total_age = 0\n",
    "        for guest in glist:\n",
    "            total_age += guest.ages\n",
    "        avg_age = total_age / len(glist)\n",
    "        print(f'avg age of cutomers: {avg_age}')"
   ]
  },
  {
   "cell_type": "code",
   "execution_count": 94,
   "metadata": {},
   "outputs": [
    {
     "name": "stdout",
     "output_type": "stream",
     "text": [
      "Gold Members : \n",
      " joshi \n",
      " bhidu \n",
      "karan  joshi  an the age is 1\n",
      "jacky  bhidu  an the age is 67\n",
      "0\n",
      "avg age of cutomers: 34.0\n"
     ]
    }
   ],
   "source": [
    "glist = []\n",
    "num_guests = int(input('Enter the number of guests: '))\n",
    "for i in range(num_guests):\n",
    "    data = input('F_name/Lname/rank/age').split(',')\n",
    "    guest = Guest_management(data[0] , data[1] , int(data[2]) , int(data[3]))\n",
    "    glist.append(guest)\n",
    "\n",
    "guest = glist[0]\n",
    "guest.loyalty_points(glist)\n",
    "guest.guest_info(glist)\n",
    "guest.avg_age(glist)"
   ]
  },
  {
   "cell_type": "code",
   "execution_count": 87,
   "metadata": {},
   "outputs": [
    {
     "data": {
      "text/plain": [
       "['karan joshi 12 24']"
      ]
     },
     "execution_count": 87,
     "metadata": {},
     "output_type": "execute_result"
    }
   ],
   "source": [
    "data"
   ]
  },
  {
   "cell_type": "code",
   "execution_count": 79,
   "metadata": {},
   "outputs": [],
   "source": [
    "data = input('F_name/Lname/rank/age')"
   ]
  },
  {
   "cell_type": "code",
   "execution_count": 81,
   "metadata": {},
   "outputs": [
    {
     "data": {
      "text/plain": [
       "['karan joshi 1 21']"
      ]
     },
     "execution_count": 81,
     "metadata": {},
     "output_type": "execute_result"
    }
   ],
   "source": [
    "data.split('\\\\')"
   ]
  },
  {
   "cell_type": "markdown",
   "metadata": {},
   "source": [
    "# INHERITANCE PROJETCS ---"
   ]
  },
  {
   "cell_type": "markdown",
   "metadata": {},
   "source": [
    "# Superhuman"
   ]
  },
  {
   "cell_type": "code",
   "execution_count": 96,
   "metadata": {},
   "outputs": [],
   "source": [
    "class Superhero:\n",
    "    def __init__(self,name,power):\n",
    "        self.name = name\n",
    "        self.power = power\n",
    "\n",
    "    def use_power(self):\n",
    "        print(f'{self.name} has {self.power}')\n",
    "\n",
    "    def save_the_day(self):\n",
    "        pass\n",
    "\n",
    "    def intro(self):\n",
    "        print(f'{self.name} is using {self.power}')\n",
    "\n",
    "\n",
    "    def calculate_power(self):\n",
    "        length = len(self.power)\n",
    "        level = length*10\n",
    "        return level\n"
   ]
  },
  {
   "cell_type": "code",
   "execution_count": 97,
   "metadata": {},
   "outputs": [],
   "source": [
    "class Flying(Superhero):\n",
    "    def __init__(self,name,power, speed):\n",
    "        super().__init__(name , power)\n",
    "        self.speed = speed\n",
    "\n",
    "    def use_power(self):\n",
    "        print(f'{self.name} is flying at the rate of  {self.speed}')\n",
    "\n",
    "    def distance(self, flight_time):\n",
    "        dist = self.speed * flight_time\n",
    "        return dist\n"
   ]
  },
  {
   "cell_type": "code",
   "execution_count": 98,
   "metadata": {},
   "outputs": [],
   "source": [
    "superman = Flying('superman' , 'flight' , 200)"
   ]
  },
  {
   "cell_type": "code",
   "execution_count": 99,
   "metadata": {},
   "outputs": [
    {
     "name": "stdout",
     "output_type": "stream",
     "text": [
      "superman is using flight\n"
     ]
    }
   ],
   "source": [
    "superman.intro()"
   ]
  },
  {
   "cell_type": "code",
   "execution_count": 101,
   "metadata": {},
   "outputs": [
    {
     "data": {
      "text/plain": [
       "2000"
      ]
     },
     "execution_count": 101,
     "metadata": {},
     "output_type": "execute_result"
    }
   ],
   "source": [
    "superman.distance(10)"
   ]
  },
  {
   "cell_type": "code",
   "execution_count": 102,
   "metadata": {},
   "outputs": [
    {
     "name": "stdout",
     "output_type": "stream",
     "text": [
      "superman is flying at the rate of  200\n"
     ]
    }
   ],
   "source": [
    "superman.use_power()"
   ]
  },
  {
   "cell_type": "markdown",
   "metadata": {},
   "source": [
    "# Library Management"
   ]
  },
  {
   "cell_type": "code",
   "execution_count": 111,
   "metadata": {},
   "outputs": [],
   "source": [
    "class Book:\n",
    "    def __init__(self, title , author, year):\n",
    "        self.title = title\n",
    "        self.author = author\n",
    "        self.year = year\n",
    "\n",
    "    def display(self):\n",
    "        print(f'{self.title} is written by {self.author} in the yaer {self.year}')\n",
    "\n",
    "class Fictionbook(Book):\n",
    "    def __init__(self, title, author , year , genre):\n",
    "        super().__init__(title, author, year)\n",
    "        self.genre = genre\n",
    "\n",
    "    def display(self):\n",
    "        super().display()\n",
    "        print(f' genre is  {self.genre}')\n",
    "\n",
    "class Nonfiction(Book):\n",
    "    def __init__(self,title, author, year, topic):\n",
    "        super().__init__(title, author, year)\n",
    "        self.topic = topic\n",
    "\n",
    "    def display(self):\n",
    "        super().display()\n",
    "        print(f' topic is  {self.topic}')"
   ]
  },
  {
   "cell_type": "code",
   "execution_count": 116,
   "metadata": {},
   "outputs": [],
   "source": [
    "class Library:\n",
    "    def __init__(self):\n",
    "        self.books = []\n",
    "        \n",
    "    def add_book(self , book_obj):\n",
    "        self.books.append(book_obj)\n",
    "\n",
    "    def display_books(self):\n",
    "         for book in self.books:\n",
    "             book.display()\n",
    "             print()\n",
    "                \n",
    "    def search_book(self,author_name):\n",
    "        found_books = []\n",
    "        for book in self.books:\n",
    "            if book.author == author_name:\n",
    "                found_books.append(book)\n",
    "\n",
    "        if found_books:\n",
    "            print(f'Book by {author_name}')\n",
    "            for book in found_books:\n",
    "                book.display()\n",
    "                print()\n",
    "        else:\n",
    "            print('No book from this author')\n",
    "\n",
    "    def search_year(self, start_year, end_year):\n",
    "        found_books = []\n",
    "        for book in self.books:\n",
    "            if start_year <= book.year <=end_year:\n",
    "                found_books.append(book)\n",
    "\n",
    "        if found_books:\n",
    "            print(f'Book between {start_year} and {end_year} : ')\n",
    "            for book in found_books:\n",
    "                book.display()\n",
    "                print()\n",
    "        else:\n",
    "            print('No book found between {start_year} and {end_year}')"
   ]
  },
  {
   "cell_type": "code",
   "execution_count": 118,
   "metadata": {},
   "outputs": [],
   "source": [
    "library = Library()"
   ]
  },
  {
   "cell_type": "code",
   "execution_count": 119,
   "metadata": {},
   "outputs": [],
   "source": [
    "book1 = Fictionbook('Gatsby' , 'Scott' , 1925 , 'Classic')\n",
    "book2 = Fictionbook('Harry Putter' , 'JK' , 1997 , 'Fantasy')\n",
    "book3 = Nonfiction('Sapiens' , 'Yuval' , 2014, 'Anthropology')\n",
    "book4 = Nonfiction('Atomic Hbbits' , 'James', 2010 , 'Self-help')"
   ]
  },
  {
   "cell_type": "code",
   "execution_count": 120,
   "metadata": {},
   "outputs": [],
   "source": [
    "library.add_book(book1)\n",
    "library.add_book(book2)\n",
    "library.add_book(book3)\n",
    "library.add_book(book4)"
   ]
  },
  {
   "cell_type": "code",
   "execution_count": 121,
   "metadata": {},
   "outputs": [
    {
     "name": "stdout",
     "output_type": "stream",
     "text": [
      "Gatsby is written by Scott in the yaer 1925\n",
      " genre is  Classic\n",
      "\n",
      "Harry Putter is written by JK in the yaer 1997\n",
      " genre is  Fantasy\n",
      "\n",
      "Sapiens is written by Yuval in the yaer 2014\n",
      " topic is  Anthropology\n",
      "\n",
      "Atomic Hbbits is written by James in the yaer 2010\n",
      " topic is  Self-help\n",
      "\n"
     ]
    }
   ],
   "source": [
    "library.display_books()"
   ]
  },
  {
   "cell_type": "code",
   "execution_count": 122,
   "metadata": {},
   "outputs": [
    {
     "name": "stdout",
     "output_type": "stream",
     "text": [
      "Book by Scott\n",
      "Gatsby is written by Scott in the yaer 1925\n",
      " genre is  Classic\n",
      "\n"
     ]
    }
   ],
   "source": [
    "library.search_book('Scott')"
   ]
  },
  {
   "cell_type": "code",
   "execution_count": 124,
   "metadata": {},
   "outputs": [
    {
     "name": "stdout",
     "output_type": "stream",
     "text": [
      "Book between 1950 and 2010 : \n",
      "Harry Putter is written by JK in the yaer 1997\n",
      " genre is  Fantasy\n",
      "\n",
      "Atomic Hbbits is written by James in the yaer 2010\n",
      " topic is  Self-help\n",
      "\n"
     ]
    }
   ],
   "source": [
    "library.search_year(1950 , 2010)"
   ]
  },
  {
   "cell_type": "markdown",
   "metadata": {},
   "source": [
    "# Country Info System"
   ]
  },
  {
   "cell_type": "code",
   "execution_count": 42,
   "metadata": {},
   "outputs": [],
   "source": [
    "class Country:\n",
    "    def __init__(self,name,capital,population):\n",
    "        self.name = name\n",
    "        self.capital = capital\n",
    "        self.population = population\n",
    "\n",
    "    def get_info(self):\n",
    "        return {\n",
    "            'Country' : self.name,\n",
    "            'Capital' : self.capital,\n",
    "            'Population' : self.population\n",
    "        }"
   ]
  },
  {
   "cell_type": "code",
   "execution_count": 43,
   "metadata": {},
   "outputs": [],
   "source": [
    "class DevelopedCoutry(Country):\n",
    "    def __init__(self, name, capital,population,gdp):\n",
    "        super().__init__(name, capital,population)\n",
    "        self.gdp = gdp\n",
    "\n",
    "    def get_info(self):\n",
    "        info = super().get_info()\n",
    "        info['gdp'] = self.gdp\n",
    "        return info"
   ]
  },
  {
   "cell_type": "code",
   "execution_count": 44,
   "metadata": {},
   "outputs": [],
   "source": [
    "class DevelopingCoutry(Country):\n",
    "    def __init__(self, name, capital,population,hdi):\n",
    "        super().__init__(name, capital,population)\n",
    "        self.hdi = hdi\n",
    "\n",
    "    def get_info(self):\n",
    "        info = super().get_info()\n",
    "        info['hdi'] = self.hdi\n",
    "        return info"
   ]
  },
  {
   "cell_type": "code",
   "execution_count": 45,
   "metadata": {},
   "outputs": [],
   "source": [
    "class World:\n",
    "    def __init__(self):\n",
    "        self.countries = []\n",
    "\n",
    "    def add_country(self,country):\n",
    "        self.countries.append(country)\n",
    "\n",
    "    def search_country(self , country_name):\n",
    "        for country in self.countries:\n",
    "            if country.name == country_name:\n",
    "                return country.get_info()\n",
    "        return None"
   ]
  },
  {
   "cell_type": "code",
   "execution_count": 46,
   "metadata": {},
   "outputs": [],
   "source": [
    "world = World()"
   ]
  },
  {
   "cell_type": "code",
   "execution_count": 47,
   "metadata": {},
   "outputs": [],
   "source": [
    "usa  = DevelopedCoutry('USA' , 'Washington DC' , 1000000 , 25000000)\n",
    "china = DevelopingCoutry('CHINA', 'Beijing' , 200000 , 0.8)\n",
    "india = DevelopingCoutry('INDIA' , 'Delhi' , 300000 , 0.75)"
   ]
  },
  {
   "cell_type": "code",
   "execution_count": 48,
   "metadata": {},
   "outputs": [],
   "source": [
    "world.add_country(usa)\n",
    "world.add_country(china)\n",
    "world.add_country(india)"
   ]
  },
  {
   "cell_type": "code",
   "execution_count": 55,
   "metadata": {},
   "outputs": [],
   "source": [
    "country_info = world.search_country('INDIA')"
   ]
  },
  {
   "cell_type": "code",
   "execution_count": 57,
   "metadata": {},
   "outputs": [
    {
     "name": "stdout",
     "output_type": "stream",
     "text": [
      "Country Info\n",
      "Country: INDIA\n",
      "Capital: Delhi\n",
      "Population: 300000\n",
      "hdi: 0.75\n"
     ]
    }
   ],
   "source": [
    "if country_info:\n",
    "    print('Country Info')\n",
    "\n",
    "    for k,v in country_info.items():\n",
    "        print(f'{k}: {v}')\n",
    "else:\n",
    "    print('country not found')"
   ]
  },
  {
   "cell_type": "markdown",
   "metadata": {},
   "source": [
    "# Multiple Class Inheritance"
   ]
  },
  {
   "cell_type": "markdown",
   "metadata": {},
   "source": [
    "# Vehicle Describer"
   ]
  },
  {
   "cell_type": "code",
   "execution_count": 79,
   "metadata": {},
   "outputs": [],
   "source": [
    "class Vehicle:\n",
    "    def __init__(self, maker,model,year):\n",
    "        self.make = maker\n",
    "        self.model = model\n",
    "        self.year = year"
   ]
  },
  {
   "cell_type": "code",
   "execution_count": 88,
   "metadata": {},
   "outputs": [],
   "source": [
    "class ElectricVehicle:\n",
    "    def __init__(self,battery_size):\n",
    "        self.battery_size = battery_size\n",
    "\n",
    "    def charge(self):\n",
    "        return self.battery_size\n",
    "\n",
    "    def get_range(self):\n",
    "        return self.battery_size * 5"
   ]
  },
  {
   "cell_type": "code",
   "execution_count": 89,
   "metadata": {},
   "outputs": [],
   "source": [
    "class GasolineVehicle:\n",
    "    def __init__(self,fuel_capacity):\n",
    "        self.fuel_capacity = fuel_capacity\n",
    "\n",
    "    def refuel(self):\n",
    "        return self.fuel_capacity\n",
    "\n",
    "    def get_fuel_range(self):\n",
    "        return self.fuel_capacity * 20"
   ]
  },
  {
   "cell_type": "code",
   "execution_count": 90,
   "metadata": {},
   "outputs": [],
   "source": [
    "class HybridVehicle(Vehicle,ElectricVehicle,GasolineVehicle):                   #multiple Inheritance\n",
    "    def __init__(self, maker,model,year,battery_size,fuel_capacity):\n",
    "        Vehicle.__init__(self,maker,model,year) # if the super keyword is  not used , we need to pass self as well in the arguments\n",
    "        ElectricVehicle.__init__(self,battery_size)\n",
    "        GasolineVehicle.__init__(self,fuel_capacity)"
   ]
  },
  {
   "cell_type": "code",
   "execution_count": 91,
   "metadata": {},
   "outputs": [],
   "source": [
    "car = HybridVehicle('Porche' , 'Beetle' , 2020 , 10 , 45)"
   ]
  },
  {
   "cell_type": "code",
   "execution_count": 92,
   "metadata": {},
   "outputs": [
    {
     "data": {
      "text/plain": [
       "50"
      ]
     },
     "execution_count": 92,
     "metadata": {},
     "output_type": "execute_result"
    }
   ],
   "source": [
    "car.get_range()"
   ]
  },
  {
   "cell_type": "code",
   "execution_count": 93,
   "metadata": {},
   "outputs": [
    {
     "data": {
      "text/plain": [
       "900"
      ]
     },
     "execution_count": 93,
     "metadata": {},
     "output_type": "execute_result"
    }
   ],
   "source": [
    "car.get_fuel_range()"
   ]
  },
  {
   "cell_type": "markdown",
   "metadata": {},
   "source": [
    "# BANKING SYSTEM"
   ]
  },
  {
   "cell_type": "code",
   "execution_count": 115,
   "metadata": {},
   "outputs": [],
   "source": [
    "class Account:\n",
    "    def __init__(self,acc_num,balance):\n",
    "        self.acc_num = acc_num\n",
    "        self.balance = balance\n",
    "\n",
    "    def deposit(self, amount):\n",
    "        self.balance += amount\n",
    "        print(f'amount deposited : {amount}')\n",
    "        print(f'New balance is {self.balance}')\n",
    "\n",
    "    def withdraw(self,amount):\n",
    "        if amount <= self.balance:\n",
    "            self.balance -= amount\n",
    "            print(f'Amount debited {amount}')\n",
    "            print(f'Updated Balance is { self.balance}')\n",
    "\n",
    "        elif amount > self.balance:\n",
    "            print('Insufficient Balance')\n",
    "\n",
    "    def get_balance(self):\n",
    "        return self.balance"
   ]
  },
  {
   "cell_type": "code",
   "execution_count": 116,
   "metadata": {},
   "outputs": [],
   "source": [
    "class Interestbearingaccount(Account):\n",
    "    def __init__(self,acc_num,balance,interest_rate):\n",
    "        super().__init__(acc_num,balance)\n",
    "        self.interest_rate = interest_rate\n",
    "\n",
    "    def calc_interest(self):\n",
    "        return self.balance * (self.interest_rate/100)"
   ]
  },
  {
   "cell_type": "code",
   "execution_count": 126,
   "metadata": {},
   "outputs": [],
   "source": [
    "class Transactionhistory:\n",
    "    def __init__(self):\n",
    "        self.transactions = []\n",
    "\n",
    "    def add_transaction(self,transact):\n",
    "        self.transactions.append(transact)\n",
    "\n",
    "    def history(self):\n",
    "        for transaction in self.transactions:\n",
    "            print(transaction)"
   ]
  },
  {
   "cell_type": "code",
   "execution_count": 127,
   "metadata": {},
   "outputs": [],
   "source": [
    "class Savingsaccount(Interestbearingaccount, Transactionhistory): # no need to inherit from account class as interestbearingaccount class already inherits from account class\n",
    "    def __init__(self,acc_num,balance,interest_rate):\n",
    "        super().__init__(acc_num,balance,interest_rate)\n",
    "        Transactionhistory.__init__(self)"
   ]
  },
  {
   "cell_type": "code",
   "execution_count": 128,
   "metadata": {},
   "outputs": [],
   "source": [
    "savings = Savingsaccount('ab001' , 1000 , 10)"
   ]
  },
  {
   "cell_type": "code",
   "execution_count": 129,
   "metadata": {},
   "outputs": [
    {
     "data": {
      "text/plain": [
       "1000"
      ]
     },
     "execution_count": 129,
     "metadata": {},
     "output_type": "execute_result"
    }
   ],
   "source": [
    "savings.get_balance()"
   ]
  },
  {
   "cell_type": "code",
   "execution_count": 130,
   "metadata": {},
   "outputs": [
    {
     "data": {
      "text/plain": [
       "100.0"
      ]
     },
     "execution_count": 130,
     "metadata": {},
     "output_type": "execute_result"
    }
   ],
   "source": [
    "savings.calc_interest()"
   ]
  },
  {
   "cell_type": "code",
   "execution_count": 131,
   "metadata": {},
   "outputs": [
    {
     "name": "stdout",
     "output_type": "stream",
     "text": [
      "amount deposited : 1000\n",
      "New balance is 2000\n"
     ]
    }
   ],
   "source": [
    "savings.deposit(1000)"
   ]
  },
  {
   "cell_type": "code",
   "execution_count": 132,
   "metadata": {},
   "outputs": [
    {
     "name": "stdout",
     "output_type": "stream",
     "text": [
      "Amount debited 1900\n",
      "Updated Balance is 100\n"
     ]
    }
   ],
   "source": [
    "savings.withdraw(1900)"
   ]
  },
  {
   "cell_type": "code",
   "execution_count": 133,
   "metadata": {},
   "outputs": [],
   "source": [
    "savings.add_transaction('deposit : 1000')\n",
    "savings.add_transaction('withdraw : 1900')"
   ]
  },
  {
   "cell_type": "code",
   "execution_count": 134,
   "metadata": {},
   "outputs": [
    {
     "name": "stdout",
     "output_type": "stream",
     "text": [
      "deposit : 1000\n",
      "withdraw : 1900\n"
     ]
    }
   ],
   "source": [
    "savings.history()"
   ]
  },
  {
   "cell_type": "code",
   "execution_count": 136,
   "metadata": {},
   "outputs": [
    {
     "data": {
      "text/plain": [
       "10.0"
      ]
     },
     "execution_count": 136,
     "metadata": {},
     "output_type": "execute_result"
    }
   ],
   "source": [
    "savings.calc_interest()"
   ]
  },
  {
   "cell_type": "markdown",
   "metadata": {},
   "source": [
    "# Loyalty Points"
   ]
  },
  {
   "cell_type": "code",
   "execution_count": 138,
   "metadata": {},
   "outputs": [],
   "source": [
    "class Customer:\n",
    "    def __init__(self, name , customer_id):\n",
    "        self.name = name\n",
    "        self.customer_id = customer_id"
   ]
  },
  {
   "cell_type": "code",
   "execution_count": 159,
   "metadata": {},
   "outputs": [],
   "source": [
    "class LoyaltyPoints:\n",
    "    def __init__(self):\n",
    "        self.points = 0\n",
    "\n",
    "    def earn_point(self,amount):\n",
    "        self.points += amount\n",
    "\n",
    "    def redeem_points(self,amount):\n",
    "        if amount <= self.points:\n",
    "            self.points -= amount\n",
    "        else:\n",
    "            print('Not enough points')\n",
    "\n",
    "    def current_balance(self):\n",
    "        return self.points"
   ]
  },
  {
   "cell_type": "code",
   "execution_count": 160,
   "metadata": {},
   "outputs": [],
   "source": [
    "class VIP_Customer(Customer, LoyaltyPoints):\n",
    "    def __init__(self,customer_id, name):\n",
    "        super().__init__(customer_id, name )\n",
    "        LoyaltyPoints.__init__(self)"
   ]
  },
  {
   "cell_type": "code",
   "execution_count": 161,
   "metadata": {},
   "outputs": [],
   "source": [
    "class Transaction:\n",
    "    def __init__(self,transaction_id,customer,amount):\n",
    "        self.transaction_id = transaction_id\n",
    "        self.customer = customer\n",
    "        self.amount = amount"
   ]
  },
  {
   "cell_type": "code",
   "execution_count": 173,
   "metadata": {},
   "outputs": [],
   "source": [
    "class Transactionhistory:\n",
    "    def __init__(self):\n",
    "        self.transactions = []\n",
    "\n",
    "    def add_transactions(self,transaction):\n",
    "        self.transactions.append(transaction)\n",
    "\n",
    "    def show_transactions(self):\n",
    "        for transact in self.transactions:\n",
    "            print(transact.transaction_id , transact.customer , transact.amount)"
   ]
  },
  {
   "cell_type": "code",
   "execution_count": 174,
   "metadata": {},
   "outputs": [],
   "source": [
    "vip = VIP_Customer('aa002', 'abhi')"
   ]
  },
  {
   "cell_type": "code",
   "execution_count": 175,
   "metadata": {},
   "outputs": [],
   "source": [
    "vip.earn_point(12500)\n",
    "vip.redeem_points(2500)"
   ]
  },
  {
   "cell_type": "code",
   "execution_count": 176,
   "metadata": {},
   "outputs": [],
   "source": [
    "transaction1 = Transaction('t-001', 'vip', \"+12500\")\n",
    "transaction2 =  Transaction('t-001', 'vip', \"-2500\")"
   ]
  },
  {
   "cell_type": "code",
   "execution_count": 177,
   "metadata": {},
   "outputs": [],
   "source": [
    "transaction_history = Transactionhistory()"
   ]
  },
  {
   "cell_type": "code",
   "execution_count": 178,
   "metadata": {},
   "outputs": [],
   "source": [
    "transaction_history.add_transactions(transaction1)\n",
    "transaction_history.add_transactions(transaction2)"
   ]
  },
  {
   "cell_type": "code",
   "execution_count": 179,
   "metadata": {},
   "outputs": [
    {
     "name": "stdout",
     "output_type": "stream",
     "text": [
      "t-001 vip +12500\n",
      "t-001 vip -2500\n"
     ]
    }
   ],
   "source": [
    "transaction_history.show_transactions()"
   ]
  },
  {
   "cell_type": "code",
   "execution_count": 180,
   "metadata": {},
   "outputs": [
    {
     "data": {
      "text/plain": [
       "10000"
      ]
     },
     "execution_count": 180,
     "metadata": {},
     "output_type": "execute_result"
    }
   ],
   "source": [
    "vip.current_balance()"
   ]
  },
  {
   "cell_type": "markdown",
   "metadata": {},
   "source": [
    "# Online Shopping System"
   ]
  },
  {
   "cell_type": "code",
   "execution_count": 193,
   "metadata": {},
   "outputs": [],
   "source": [
    "class User:\n",
    "    def __init__(self, username , email):\n",
    "        self.username = username\n",
    "        self.email = email"
   ]
  },
  {
   "cell_type": "code",
   "execution_count": 227,
   "metadata": {},
   "outputs": [],
   "source": [
    "class Customer(User):\n",
    "    def __init__(self , username , email):\n",
    "        super().__init__(username, email)\n",
    "        self.cart = []\n",
    "\n",
    "    def add_to_cart(self,item):\n",
    "        self.cart.append(item)\n",
    "\n",
    "    def remove_item(self,item):\n",
    "        if item in self.cart:\n",
    "            self.cart.remove(item)\n",
    "        else:\n",
    "            print('Item not present in cart')\n",
    "\n",
    "    def cart_total(self):\n",
    "        total_price = 0\n",
    "        for item in self.cart:\n",
    "            total_price += item.price\n",
    "        return (f\"Total Cart Value {total_price}\")\n",
    "\n",
    "    def view_cart(self):\n",
    "        print('Items in Cart')\n",
    "        for item in self.cart:\n",
    "            print(item.name)\n",
    "\n",
    "    def save_cart(self,filename):\n",
    "        with open(filename, \"w\") as file:\n",
    "            for product in self.cart:\n",
    "                file.write(f'{product.name}, {product.price}')\n",
    "        print(f'Cart saved to {filename}')"
   ]
  },
  {
   "cell_type": "code",
   "execution_count": 228,
   "metadata": {},
   "outputs": [],
   "source": [
    "class Seller(User):\n",
    "    def __init__(self,username , email):\n",
    "        super().__init__(username, email)\n",
    "        self.products = []\n",
    "\n",
    "    def add_product(self,item):\n",
    "        self.products.append(item)\n",
    "\n",
    "    def remove_product(self,item):\n",
    "        if item in self.products:\n",
    "            self.products.remove(item)\n",
    "        else:\n",
    "            print('product not Found')\n",
    "\n",
    "    def view_products(self):\n",
    "        print('Items in Cart')\n",
    "        for item in self.products:\n",
    "            print(item.name)\n",
    "\n",
    "    def save_products(self,filename):\n",
    "        with open(filename, \"w\") as file:\n",
    "            for product in self.cart:\n",
    "                file.write(f'{product.name}, {product.price}')\n",
    "        print(f'products saved to {filename}')"
   ]
  },
  {
   "cell_type": "code",
   "execution_count": 229,
   "metadata": {},
   "outputs": [],
   "source": [
    "class Product:\n",
    "    def __init__(self,name,price):\n",
    "        self.price = price\n",
    "        self.name = name\n",
    "\n",
    "    def basic_info(self):\n",
    "        print(f'Product: {self.name}')\n",
    "        print(f'Price : {self.price}')"
   ]
  },
  {
   "cell_type": "code",
   "execution_count": 230,
   "metadata": {},
   "outputs": [],
   "source": [
    "customer  = Customer('billa', 'billy@gmail.com')\n",
    "seller = Customer('tilla' , 'tilla@gmail.com')"
   ]
  },
  {
   "cell_type": "code",
   "execution_count": 231,
   "metadata": {},
   "outputs": [],
   "source": [
    "product1 = Product('Ring' , 200)\n",
    "product2 = Product('Mobile' , 5000)\n",
    "product3 = Product('Shoes' , 2000)"
   ]
  },
  {
   "cell_type": "code",
   "execution_count": 232,
   "metadata": {},
   "outputs": [],
   "source": [
    "customer.add_to_cart(product1)\n",
    "customer.add_to_cart(product2)\n",
    "customer.add_to_cart(product3)"
   ]
  },
  {
   "cell_type": "code",
   "execution_count": 233,
   "metadata": {},
   "outputs": [
    {
     "name": "stdout",
     "output_type": "stream",
     "text": [
      "Items in Cart\n",
      "Ring\n",
      "Mobile\n",
      "Shoes\n"
     ]
    }
   ],
   "source": [
    "customer.view_cart()"
   ]
  },
  {
   "cell_type": "code",
   "execution_count": 234,
   "metadata": {},
   "outputs": [
    {
     "data": {
      "text/plain": [
       "'Total Cart Value 7200'"
      ]
     },
     "execution_count": 234,
     "metadata": {},
     "output_type": "execute_result"
    }
   ],
   "source": [
    "customer.cart_total()"
   ]
  },
  {
   "cell_type": "markdown",
   "metadata": {},
   "source": [
    "# Staff Tracking System"
   ]
  },
  {
   "cell_type": "code",
   "execution_count": 240,
   "metadata": {},
   "outputs": [],
   "source": [
    "class Employee:\n",
    "    def __init__(self,name , emp_id):\n",
    "        self.name = name\n",
    "        self.emp_id = emp_id\n",
    "\n",
    "    def __eq__(self,other):\n",
    "        if isinstance(other,Employee):\n",
    "            if self.emp_id == other.emp_id:\n",
    "                return True\n",
    "            return False\n",
    "    \n",
    "    def __str__(self):\n",
    "        return f\" Name is {self.name} and id is {self.emp_id}\"\n",
    "        "
   ]
  },
  {
   "cell_type": "code",
   "execution_count": 241,
   "metadata": {},
   "outputs": [],
   "source": [
    "class Manager(Employee):\n",
    "    def __init__(self,name , emp_id , department):\n",
    "        super().__init__(name , emp_id)\n",
    "        self.department = department\n",
    "\n",
    "    def __str__(self):\n",
    "        return f\" Manager is {self.emp.name} and id is {self.emp_id} and department is {self.department}\"\n",
    "    \n",
    "    def __eq__(self,other):\n",
    "        if isinstance(other, Manager):\n",
    "            if self.emp_id == other.emp_id:\n",
    "                return True\n",
    "            return False\n",
    "        \n",
    "\n",
    "class Staff(Employee):\n",
    "    def __init__(self,name , emp_id , role):\n",
    "        super().__init__(name , emp_id)\n",
    "        self.role = role\n",
    "\n",
    "    def __str__(self):\n",
    "        return f\" staff member  is {self.emp.name} and id is {self.emp_id} and department is {self.role}\"\n",
    "    \n",
    "    def __eq__(self,other):\n",
    "        if isinstance(other, Staff):\n",
    "            if self.emp_id == other.emp_id:\n",
    "                return True\n",
    "            return False"
   ]
  },
  {
   "cell_type": "code",
   "execution_count": 242,
   "metadata": {},
   "outputs": [],
   "source": [
    "emp1 = Employee('john', 22)\n",
    "emp2 = Employee('mohan', 12)"
   ]
  },
  {
   "cell_type": "code",
   "execution_count": 243,
   "metadata": {},
   "outputs": [
    {
     "name": "stdout",
     "output_type": "stream",
     "text": [
      " Name is john and id is 22\n"
     ]
    }
   ],
   "source": [
    "print(emp1)"
   ]
  },
  {
   "cell_type": "code",
   "execution_count": 246,
   "metadata": {},
   "outputs": [
    {
     "data": {
      "text/plain": [
       "False"
      ]
     },
     "execution_count": 246,
     "metadata": {},
     "output_type": "execute_result"
    }
   ],
   "source": [
    "emp1==emp2"
   ]
  },
  {
   "cell_type": "markdown",
   "metadata": {},
   "source": [
    "# Sports Mania"
   ]
  },
  {
   "cell_type": "code",
   "execution_count": 91,
   "metadata": {},
   "outputs": [],
   "source": [
    "class Sports:\n",
    "    def __init__(self,name):\n",
    "        self.name = name\n",
    "\n",
    "    def describe(self):\n",
    "        print(f\"Sports :  {self.name}\")\n",
    "\n",
    "    def __eq__(self,other):\n",
    "        if isinstance(other , Sports):\n",
    "            if self.name == other.name:\n",
    "                return True\n",
    "            return False      "
   ]
  },
  {
   "cell_type": "code",
   "execution_count": 104,
   "metadata": {},
   "outputs": [],
   "source": [
    "class Football(Sports):\n",
    "    def __init__(self,name,team):\n",
    "        super().__init__(name)\n",
    "        self.team = team\n",
    "\n",
    "    def __str__(self):\n",
    "        return f\"Sports :  {self.name} and team is : {', '.join(self.team)}.\"\n",
    "\n",
    "    def __eq__(self,other):\n",
    "        if isinstance(other , Football):\n",
    "            return self.name == other.name and self.team == other.team\n",
    "        return False  \n",
    "        \n",
    "    def __sub__(self, other):\n",
    "        if isinstance(other, Football):\n",
    "            shared_teams = list(set(self.team) & set(other.team))\n",
    "            if shared_teams:\n",
    "                return Football(f\"{self.name} : Common Teams\", shared_teams)\n",
    "            else:\n",
    "                return \"No common team between them\"\n",
    "        return \"Not Possible\""
   ]
  },
  {
   "cell_type": "code",
   "execution_count": 105,
   "metadata": {},
   "outputs": [],
   "source": [
    "class Basketball(Sports):\n",
    "    def __init__(self,name,team):\n",
    "        super().__init__(name)\n",
    "        self.team = team\n",
    "\n",
    "    def __str__(self):\n",
    "        return f\"Sports :  {self.name} and team is : {'. '.join(self.team)}\"\n",
    "\n",
    "    def __eq__(self,other):\n",
    "        if isinstance(other , Basketball):\n",
    "            return  self.name == other.name and self.team == other.team\n",
    "        return False  \n",
    "        \n",
    "    def __sub__(self,other):\n",
    "        if isinstance(other, Basketball):\n",
    "            shared_teams = list(set(self.team) & set(other.team))\n",
    "            if shared_teams:\n",
    "                return Basketball(f\"{self.name} : \", shared_teams)\n",
    "            else:\n",
    "                return f\"No common team between them\"\n",
    "        return 'Not Possible'"
   ]
  },
  {
   "cell_type": "code",
   "execution_count": 106,
   "metadata": {},
   "outputs": [],
   "source": [
    "sports = Sports('basic')"
   ]
  },
  {
   "cell_type": "code",
   "execution_count": 107,
   "metadata": {},
   "outputs": [],
   "source": [
    "football1 = Football('Football' , ['argentina', 'brazil'])\n",
    "football2 = Football('Football', ['brazil' , 'norway'])"
   ]
  },
  {
   "cell_type": "code",
   "execution_count": 108,
   "metadata": {},
   "outputs": [],
   "source": [
    "basketball1 = Basketball('basketball' , ['argentina', 'brazil'])\n",
    "basketball2 = Basketball('basketball', ['france' , 'norway'])"
   ]
  },
  {
   "cell_type": "code",
   "execution_count": 109,
   "metadata": {},
   "outputs": [
    {
     "name": "stdout",
     "output_type": "stream",
     "text": [
      "Sports :  Football and team is : argentina, brazil.\n"
     ]
    }
   ],
   "source": [
    "print(football1)"
   ]
  },
  {
   "cell_type": "code",
   "execution_count": 110,
   "metadata": {},
   "outputs": [
    {
     "data": {
      "text/plain": [
       "False"
      ]
     },
     "execution_count": 110,
     "metadata": {},
     "output_type": "execute_result"
    }
   ],
   "source": [
    "football1 == football2"
   ]
  },
  {
   "cell_type": "code",
   "execution_count": 111,
   "metadata": {},
   "outputs": [
    {
     "name": "stdout",
     "output_type": "stream",
     "text": [
      "Sports :  basketball and team is : argentina. brazil\n"
     ]
    }
   ],
   "source": [
    "print(basketball1)"
   ]
  },
  {
   "cell_type": "code",
   "execution_count": 115,
   "metadata": {},
   "outputs": [
    {
     "name": "stdout",
     "output_type": "stream",
     "text": [
      "False\n"
     ]
    }
   ],
   "source": [
    "print(basketball1 == basketball2)"
   ]
  },
  {
   "cell_type": "code",
   "execution_count": 114,
   "metadata": {},
   "outputs": [
    {
     "name": "stdout",
     "output_type": "stream",
     "text": [
      "Sports :  Football : Common Teams and team is : brazil.\n"
     ]
    }
   ],
   "source": [
    "print(football1 - football2)"
   ]
  },
  {
   "cell_type": "code",
   "execution_count": 116,
   "metadata": {},
   "outputs": [
    {
     "name": "stdout",
     "output_type": "stream",
     "text": [
      "No common team between them\n"
     ]
    }
   ],
   "source": [
    "print(basketball1 - basketball2)"
   ]
  },
  {
   "cell_type": "markdown",
   "metadata": {},
   "source": [
    "# Product Management"
   ]
  },
  {
   "cell_type": "code",
   "execution_count": 202,
   "metadata": {},
   "outputs": [],
   "source": [
    "class Item:\n",
    "    def __init__(self, title,author):\n",
    "        self.title = title\n",
    "        self.author = author\n",
    "\n",
    "    def __str__(self):\n",
    "        return f\"Book Title: {self.title} Book Author : {self.author}\""
   ]
  },
  {
   "cell_type": "code",
   "execution_count": 203,
   "metadata": {},
   "outputs": [],
   "source": [
    "class Book(Item):\n",
    "    def __init__(self,title,author,pages):\n",
    "        Item.__init__(self,title, author)\n",
    "        self.pages = pages\n",
    "\n",
    "    def __len__(self):\n",
    "        return f'Num of pages: {self.pages}'"
   ]
  },
  {
   "cell_type": "code",
   "execution_count": 204,
   "metadata": {},
   "outputs": [],
   "source": [
    "class DVD(Item):\n",
    "    def __init__(self,title,director,duration):\n",
    "        Item.__init__(self,title,director)\n",
    "        self.duration = duration\n",
    "\n",
    "    def __len__(self):\n",
    "        return 'Duration of dvd is {self.duration}'   "
   ]
  },
  {
   "cell_type": "code",
   "execution_count": 205,
   "metadata": {},
   "outputs": [],
   "source": [
    "class Library(Book, DVD):\n",
    "    def __init__(self,title,author,pages,director,duration,copies):\n",
    "        Book.__init__(self,title,author,pages)\n",
    "        DVD.__init__(self,title,director,duration)\n",
    "        self.copies = copies\n",
    "\n",
    "    def __len__(self):\n",
    "        return self.duration\n",
    "    \n",
    "    def __str__(self):\n",
    "            return (f\"Book Title: {self.title} Book Author : {self.author} , (Book :{self.pages}, DVD : {self.duration} mins\")\n",
    "            \n",
    "    def __add__(self,other):\n",
    "        if isinstance(other , Library) and self.title == other.title:\n",
    "            combo = self.copies + other.copies\n",
    "            return Library(self.title , self.author, self.pages,self.director ,self.duration ,combo)\n",
    "        else:\n",
    "            raise TypeError('Pay close attention')"
   ]
  },
  {
   "cell_type": "code",
   "execution_count": 206,
   "metadata": {},
   "outputs": [],
   "source": [
    "book = Book('Harry  Potter' , 'JK' , 500)"
   ]
  },
  {
   "cell_type": "code",
   "execution_count": 207,
   "metadata": {},
   "outputs": [],
   "source": [
    "dvd = DVD('Inception', 'Nolan', 120)"
   ]
  },
  {
   "cell_type": "code",
   "execution_count": 208,
   "metadata": {},
   "outputs": [
    {
     "name": "stdout",
     "output_type": "stream",
     "text": [
      "Book Title: Harry  Potter Book Author : JK\n"
     ]
    }
   ],
   "source": [
    "print(book)"
   ]
  },
  {
   "cell_type": "code",
   "execution_count": 209,
   "metadata": {},
   "outputs": [
    {
     "name": "stdout",
     "output_type": "stream",
     "text": [
      "Book Title: Inception Book Author : Nolan\n"
     ]
    }
   ],
   "source": [
    "print(dvd)"
   ]
  },
  {
   "cell_type": "code",
   "execution_count": 210,
   "metadata": {},
   "outputs": [],
   "source": [
    "library = Library('python' , 'john' , 500 , 'Cmeron', 160 ,10)"
   ]
  },
  {
   "cell_type": "code",
   "execution_count": 211,
   "metadata": {},
   "outputs": [
    {
     "name": "stdout",
     "output_type": "stream",
     "text": [
      "Book Title: python Book Author : Cmeron , (Book :500, DVD : 160 mins\n"
     ]
    }
   ],
   "source": [
    "print(library)"
   ]
  },
  {
   "cell_type": "markdown",
   "metadata": {},
   "source": [
    "# Cryptocurrency Management System"
   ]
  },
  {
   "cell_type": "code",
   "execution_count": 223,
   "metadata": {},
   "outputs": [],
   "source": [
    "class Crypto:\n",
    "    def __init__(self,name):\n",
    "        self.name = name\n",
    "        self.price = 0\n",
    "\n",
    "    def __str__(self):\n",
    "        return f'Cryptocurrency : {self.name}'\n",
    "\n",
    "    def __eq__(self,other):\n",
    "        if isinstance(other, Crypto):\n",
    "            return self.name == other.name\n",
    "        return False\n",
    "\n",
    "    def __add__(self,other):\n",
    "        if isinstance(other, Crypto):\n",
    "            combo = self.name + \" \" + other.name()\n",
    "            return Crypto(combo)\n",
    "        else:\n",
    "            raise ValueError('watch out ')\n",
    "        \n",
    "    def set_price(self,price):\n",
    "        self.price += price\n",
    "\n",
    "    def get_price(self):\n",
    "        if hasattr(self, 'price'):\n",
    "            return self.price\n",
    "        else:\n",
    "            print('Print not set !')\n",
    "\n",
    "    def calc_value(self,qty):\n",
    "        if hasattr(self, 'price'):\n",
    "            return self.price * qty\n",
    "        else:\n",
    "            print('Price not set !')"
   ]
  },
  {
   "cell_type": "code",
   "execution_count": 227,
   "metadata": {},
   "outputs": [],
   "source": [
    "class Bitcoin(Crypto):\n",
    "    def __init__(self):\n",
    "        Crypto.__init__(self,'Bitcoin')\n",
    "\n",
    "    def __str__(self):\n",
    "        return f\"Bitcoin is decentralized\"\n",
    "    \n",
    "    def mine(self):\n",
    "        return f\"mining the next block\"\n",
    "\n",
    "class Ethereum(Crypto):\n",
    "    def __init__(self):\n",
    "        Crypto.__init__(self,'Ethereum')\n",
    "\n",
    "        def __str__(self):\n",
    "            return 'Ethereum uses smart contracts'\n",
    "\n",
    "        def mine(self):\n",
    "            return 'Tokens...'"
   ]
  },
  {
   "cell_type": "code",
   "execution_count": 228,
   "metadata": {},
   "outputs": [],
   "source": [
    "crypt1 = Crypto('solana')\n",
    "crypt2 = Crypto('doge_coin')\n",
    "crypt3 = Crypto('Altcoin')"
   ]
  },
  {
   "cell_type": "code",
   "execution_count": 229,
   "metadata": {},
   "outputs": [],
   "source": [
    "bitcoin = Bitcoin()\n",
    "ether = Ethereum()"
   ]
  },
  {
   "cell_type": "code",
   "execution_count": 230,
   "metadata": {},
   "outputs": [
    {
     "name": "stdout",
     "output_type": "stream",
     "text": [
      "Cryptocurrency : solana\n"
     ]
    }
   ],
   "source": [
    "print(crypt1)"
   ]
  },
  {
   "cell_type": "code",
   "execution_count": 231,
   "metadata": {},
   "outputs": [
    {
     "name": "stdout",
     "output_type": "stream",
     "text": [
      "Bitcoin is decentralized\n"
     ]
    }
   ],
   "source": [
    "print(bitcoin)"
   ]
  },
  {
   "cell_type": "code",
   "execution_count": null,
   "metadata": {},
   "outputs": [],
   "source": []
  }
 ],
 "metadata": {
  "kernelspec": {
   "display_name": "Python 3",
   "language": "python",
   "name": "python3"
  },
  "language_info": {
   "codemirror_mode": {
    "name": "ipython",
    "version": 3
   },
   "file_extension": ".py",
   "mimetype": "text/x-python",
   "name": "python",
   "nbconvert_exporter": "python",
   "pygments_lexer": "ipython3",
   "version": "3.10.5"
  }
 },
 "nbformat": 4,
 "nbformat_minor": 2
}
